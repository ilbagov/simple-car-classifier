{
 "cells": [
  {
   "cell_type": "code",
   "execution_count": null,
   "metadata": {
    "colab": {
     "base_uri": "https://localhost:8080/",
     "height": 1000
    },
    "id": "4v0ZWtfLkub3",
    "outputId": "8283df6d-0873-4596-ceaa-44d86d2291b5"
   },
   "outputs": [],
   "source": [
    "# !pip install -Uqq fastai\n",
    "# !pip install voila\n",
    "# !jupyter serverextension enable voila —sys-prefix"
   ]
  },
  {
   "cell_type": "code",
   "execution_count": null,
   "metadata": {
    "colab": {
     "base_uri": "https://localhost:8080/"
    },
    "id": "9bct3xnMkwC-",
    "outputId": "bdcd95c2-1775-43a0-eba7-9cee1b17ac2b"
   },
   "outputs": [],
   "source": [
    "from fastai.vision.all import *\n",
    "from fastai.vision.widgets import *\n",
    "import zipfile"
   ]
  },
  {
   "cell_type": "code",
   "execution_count": null,
   "metadata": {
    "id": "Ty-p4BfI7CCn"
   },
   "outputs": [],
   "source": [
    "# Create a dummy label_func so that the trained model can be loaded without needing \n",
    "def label_func():\n",
    "  return 0"
   ]
  },
  {
   "cell_type": "code",
   "execution_count": null,
   "metadata": {},
   "outputs": [],
   "source": [
    "if not Path(Path.cwd()/'export.pkl').exists():\n",
    "    with zipfile.ZipFile('export.zip') as z:\n",
    "        z.extractall(Path.cwd())"
   ]
  },
  {
   "cell_type": "code",
   "execution_count": null,
   "metadata": {
    "id": "3mNib2492ZYj"
   },
   "outputs": [],
   "source": [
    "#  Load the model\n",
    "learn = load_learner('export.pkl')"
   ]
  },
  {
   "cell_type": "code",
   "execution_count": null,
   "metadata": {
    "id": "HwlNbzz23kGr"
   },
   "outputs": [],
   "source": [
    "# Create a button for uploading test images\n",
    "btn_upload = widgets.FileUpload()"
   ]
  },
  {
   "cell_type": "code",
   "execution_count": null,
   "metadata": {
    "id": "FDq-2iNI5Br6"
   },
   "outputs": [],
   "source": [
    "# Create an Output widget for displaying the loaded image\n",
    "out_pl = widgets.Output()"
   ]
  },
  {
   "cell_type": "code",
   "execution_count": null,
   "metadata": {
    "id": "Kro4_W805XHl"
   },
   "outputs": [],
   "source": [
    "# Create a Label widget for outputting the results of the classifier\n",
    "lbl_pred = widgets.Label()"
   ]
  },
  {
   "cell_type": "code",
   "execution_count": null,
   "metadata": {
    "id": "upfTNspM5kiZ"
   },
   "outputs": [],
   "source": [
    "# Creating a button used to run the classification\n",
    "btn_run = widgets.Button(description='Classify')\n",
    "# Defining a click event handler\n",
    "def on_click_handler(o):\n",
    "  img = PILImage.create(btn_upload.data[-1])\n",
    "  out_pl.clear_output()\n",
    "  with out_pl: display(img.to_thumb(128,128))\n",
    "  pred,pred_idx,probs = learn.predict(img)\n",
    "  lbl_pred.value = f'Prediction: {pred}; Probability: {probs[pred_idx]:.04f}'\n",
    "\n",
    "btn_run.on_click(on_click_handler)"
   ]
  },
  {
   "cell_type": "code",
   "execution_count": null,
   "metadata": {
    "colab": {
     "base_uri": "https://localhost:8080/",
     "height": 238,
     "referenced_widgets": [
      "e487b5e5617444a7b93f5ae5cd533d6a",
      "442038ae159d4abf860ea3a034ba376b",
      "064e092ab3fd4442aa2eccbc5a3b7913",
      "e6f23d852e66496487ad0747c1420f87",
      "b6a23aa55a6f4b469b76cdbcee54e3a9",
      "7da5ea2c64804cff9c9f3f55cfde1855",
      "e58901b89f3b435b990a063dde077f1a",
      "1b8b42e39d524b4d813bf9ca09db350d",
      "ceb901d3f75f4e34b0a46686b2474f6c",
      "ad2be4bfb97347299f15e7095a02ae9b",
      "e3acc6dcaef244509dd23638fbb3b8ef",
      "7b4c2684c1c846fa874296cff8e52b1d",
      "a10bac5e0cd4464a97cf375cd4664803",
      "0f65e97606454120a5264b9d2e07e954",
      "ee2edd7ca8fc44e8869372da48c5a895",
      "7980a03bb8114cfd86a0e2909c00401d"
     ]
    },
    "id": "CnismduW8IKE",
    "outputId": "06289145-f94c-4bf2-fa62-366b4526b02e"
   },
   "outputs": [],
   "source": [
    "# Combining all widgets\n",
    "VBox([widgets.Label('Select your car!'), \n",
    "      btn_upload, btn_run, out_pl, lbl_pred])"
   ]
  }
 ],
 "metadata": {
  "accelerator": "GPU",
  "colab": {
   "collapsed_sections": [],
   "name": "Untitled0.ipynb",
   "provenance": []
  },
  "kernelspec": {
   "display_name": "Python 3",
   "language": "python",
   "name": "python3"
  },
  "language_info": {
   "codemirror_mode": {
    "name": "ipython",
    "version": 3
   },
   "file_extension": ".py",
   "mimetype": "text/x-python",
   "name": "python",
   "nbconvert_exporter": "python",
   "pygments_lexer": "ipython3",
   "version": "3.7.8"
  },
  "widgets": {
   "application/vnd.jupyter.widget-state+json": {
    "064e092ab3fd4442aa2eccbc5a3b7913": {
     "model_module": "@jupyter-widgets/controls",
     "model_name": "LabelModel",
     "state": {
      "_dom_classes": [],
      "_model_module": "@jupyter-widgets/controls",
      "_model_module_version": "1.5.0",
      "_model_name": "LabelModel",
      "_view_count": null,
      "_view_module": "@jupyter-widgets/controls",
      "_view_module_version": "1.5.0",
      "_view_name": "LabelView",
      "description": "",
      "description_tooltip": null,
      "layout": "IPY_MODEL_ceb901d3f75f4e34b0a46686b2474f6c",
      "placeholder": "​",
      "style": "IPY_MODEL_1b8b42e39d524b4d813bf9ca09db350d",
      "value": "Select your car!"
     }
    },
    "0f65e97606454120a5264b9d2e07e954": {
     "model_module": "@jupyter-widgets/controls",
     "model_name": "DescriptionStyleModel",
     "state": {
      "_model_module": "@jupyter-widgets/controls",
      "_model_module_version": "1.5.0",
      "_model_name": "DescriptionStyleModel",
      "_view_count": null,
      "_view_module": "@jupyter-widgets/base",
      "_view_module_version": "1.2.0",
      "_view_name": "StyleView",
      "description_width": ""
     }
    },
    "1b8b42e39d524b4d813bf9ca09db350d": {
     "model_module": "@jupyter-widgets/controls",
     "model_name": "DescriptionStyleModel",
     "state": {
      "_model_module": "@jupyter-widgets/controls",
      "_model_module_version": "1.5.0",
      "_model_name": "DescriptionStyleModel",
      "_view_count": null,
      "_view_module": "@jupyter-widgets/base",
      "_view_module_version": "1.2.0",
      "_view_name": "StyleView",
      "description_width": ""
     }
    },
    "442038ae159d4abf860ea3a034ba376b": {
     "model_module": "@jupyter-widgets/base",
     "model_name": "LayoutModel",
     "state": {
      "_model_module": "@jupyter-widgets/base",
      "_model_module_version": "1.2.0",
      "_model_name": "LayoutModel",
      "_view_count": null,
      "_view_module": "@jupyter-widgets/base",
      "_view_module_version": "1.2.0",
      "_view_name": "LayoutView",
      "align_content": null,
      "align_items": null,
      "align_self": null,
      "border": null,
      "bottom": null,
      "display": null,
      "flex": null,
      "flex_flow": null,
      "grid_area": null,
      "grid_auto_columns": null,
      "grid_auto_flow": null,
      "grid_auto_rows": null,
      "grid_column": null,
      "grid_gap": null,
      "grid_row": null,
      "grid_template_areas": null,
      "grid_template_columns": null,
      "grid_template_rows": null,
      "height": null,
      "justify_content": null,
      "justify_items": null,
      "left": null,
      "margin": null,
      "max_height": null,
      "max_width": null,
      "min_height": null,
      "min_width": null,
      "object_fit": null,
      "object_position": null,
      "order": null,
      "overflow": null,
      "overflow_x": null,
      "overflow_y": null,
      "padding": null,
      "right": null,
      "top": null,
      "visibility": null,
      "width": null
     }
    },
    "7980a03bb8114cfd86a0e2909c00401d": {
     "model_module": "@jupyter-widgets/base",
     "model_name": "LayoutModel",
     "state": {
      "_model_module": "@jupyter-widgets/base",
      "_model_module_version": "1.2.0",
      "_model_name": "LayoutModel",
      "_view_count": null,
      "_view_module": "@jupyter-widgets/base",
      "_view_module_version": "1.2.0",
      "_view_name": "LayoutView",
      "align_content": null,
      "align_items": null,
      "align_self": null,
      "border": null,
      "bottom": null,
      "display": null,
      "flex": null,
      "flex_flow": null,
      "grid_area": null,
      "grid_auto_columns": null,
      "grid_auto_flow": null,
      "grid_auto_rows": null,
      "grid_column": null,
      "grid_gap": null,
      "grid_row": null,
      "grid_template_areas": null,
      "grid_template_columns": null,
      "grid_template_rows": null,
      "height": null,
      "justify_content": null,
      "justify_items": null,
      "left": null,
      "margin": null,
      "max_height": null,
      "max_width": null,
      "min_height": null,
      "min_width": null,
      "object_fit": null,
      "object_position": null,
      "order": null,
      "overflow": null,
      "overflow_x": null,
      "overflow_y": null,
      "padding": null,
      "right": null,
      "top": null,
      "visibility": null,
      "width": null
     }
    },
    "7b4c2684c1c846fa874296cff8e52b1d": {
     "model_module": "@jupyter-widgets/controls",
     "model_name": "ButtonStyleModel",
     "state": {
      "_model_module": "@jupyter-widgets/controls",
      "_model_module_version": "1.5.0",
      "_model_name": "ButtonStyleModel",
      "_view_count": null,
      "_view_module": "@jupyter-widgets/base",
      "_view_module_version": "1.2.0",
      "_view_name": "StyleView",
      "button_color": null,
      "font_weight": ""
     }
    },
    "7da5ea2c64804cff9c9f3f55cfde1855": {
     "model_module": "@jupyter-widgets/output",
     "model_name": "OutputModel",
     "state": {
      "_dom_classes": [],
      "_model_module": "@jupyter-widgets/output",
      "_model_module_version": "1.0.0",
      "_model_name": "OutputModel",
      "_view_count": null,
      "_view_module": "@jupyter-widgets/output",
      "_view_module_version": "1.0.0",
      "_view_name": "OutputView",
      "layout": "IPY_MODEL_7980a03bb8114cfd86a0e2909c00401d",
      "msg_id": "",
      "outputs": [
       {
        "image/png": "iVBORw0KGgoAAAANSUhEUgAAAIAAAABdCAIAAADi/PltAABUSUlEQVR4nI39abBtyXUeBq4hM/fe55w73zePNQOFwkCQBEjMBEkAJCiKICkHTTksyZYVVjfVbkk/ut12dIdlh+VWu6UOeZJEttsh2qZskSIhTgA4AiAAVqEKqELN45uHO997xr0zc63VP/Kc+16BbEefePHeveftfU7uzJXfmr61En/pF/+5AQKAIgAQABgAApQfAACRAcDM1IyQYPFSmF+vhgqmQGpmAIjlbjAzRCwfxot3EQHRAAEBCcnAAEjBxI6/FhHR5p+AiFbu9Y4Cw1GnogA2HwYiANri1/LlCKgI85EiIiEQgUd0SEiIZoQGgEhGgGKGaIwUHDaOnANHxARdtk5gOMvjCFkNgMzKkAAAARSRAI5HOh8OgAEQgB5PwmKcb/u1fA4CAIJDBADUcjuUC99+vS1mBVDNAPH4OxDRENGQwdAAgcCQEA0MYPELGAEiEZYVofl3KKABgLGVmTMwAwUDw8WTICAYkJoBQEw2SQCARMeDm38/AqgBWJlXK6sMYIgIuPgFIIOBmiNERKby7eAYK2bH4NgCU69GNOyyIULlbL3vl2vLalmtE8xiSTGpmc6X/M/MLAKWR/juefyuK4nmC+aYSIFs/lkEZogMaDKfGCgTSkAEgAiGCAaABICqBkTOUEEZUA0QDcsMohEiIBZJMUQFUEUBAAMzM0BYDBURbb50hPP51bK97hv88VOBvW27GADcvzWP7yIiBCMCRnSECIaASAhlYQnKJlAwMZ4vHKAheIfOQRYyM/BkBqqmBm3WYTRNpP8/5BoA7l+A42sWYABQAODeI5FzzhVZAEMFwLI0SG5+JxoAgiGSmSICIQKAGBoYE2pZOiNE4/lGKctjgKSAaqCIYgAASoBKNn9MgDLHf/Yxyrb5MxJ07zEAAdDm4z7eE1i2qYGBloGXK1ABAalx5ROVCQGAiQDQkXkGMwQzNFNBBRPFLABghGBQJAlELCsQIqEBFyk0nC/rfUBUcBoXCL4YPhw/StmYi5fz3pkZKWi5ZS62BS3VAM0WTwVc5hcRPJoZArAamJkYMByLFwlgtqIbSNAAkNDMzCEC0WJe5nNv90aL3yVV98342yRuIVZvWxVEZARHSIQIkATUDOdCR8SYzRDmI2AiNeOyFxSZDImQIBuKmqkhADKioZklwzZDK5AEswJTUQVoRS3cJ9EAgMcIeQ/N5xe+XYzmm9gxUwF2m4sO6n2PPN8yhsfbav6dVtSIllmnuRrHDKDGYggANte0CABkWGTa5qqSyqCOB2QAVGSjKBswM9PF/C8w51hN3b9pFIAQgbDgJTAhI3gCBTMAA0IwNcwGZIiEKgpqhBYQGEkJmcCMohoYoCERINAsa1KLCjFbElCYfxwAIH73Bj2Wmfve1wUi2H0X2ly2FwLoPKMYEKEWYDbDxRoQLpQzgoNisZQvQUCa77353gUFVACxopup3A4LIMd7YmsKWPQI31NZNp94AEUyM4KC0os5ViWihRwZIs6FxgCAy7JR0TkAhmaAjsEjiJYrUQ3ECMGKDi4KXhBniqhgc0AjtTm8m1kyUCvqfS6Mxab7c5H/nsgeS2kx5+xtFtExhBKRmSGCqwMaoKiJkoiZ4T0sAtSFzPIcLyiDqSEgmJEuAA0BGHCufo8tmLfjngKgzXfoXEcbGCEo6mLwNtfhcD86AQAy36fN3qZvj5eWAYmwmJhmlo2KqYdoBqBoCogAUqDV5qrYcK7EYIGxAEVs5tcQGuDxQOYjO4aUP/ed/w3j5/53yg8uODIAM8gKwqQKagDIhmBlR5oalOdSMHKLaS2ooEBl7GoIYARoCyO3CORcuJAc2n0SQoZoC3P1vjFSgey5VXYfTAGiWZFfPFYbeN/zkSGAic7B8J7NNAdrKjtjLn9zIZtv08VSvh0V7fh9uO8LixDcN2BQWIASABTkge9+Ha/PfeMqOsBxwWtiBRHLZqqAZGqkRvOhz30QKqJfoEUQEcAhEpgBZAM1ssUOACx2PRR7aPGwCgBiPLc+gRkMyEyLP2GEgGiM6plmGcSobKQFThEAMKjCws64p84MgAyU7M8RwIUSLGNbTPR917z9sjnIEOFCUc0nd7Ewx0BfJKEoUQQDmztixzbQn6u03vZyCsTFnSFAQDJQnott1jmGFrEoBqqoLj4byYAJCMjACMkWD2MICmhmoqhmTERkopCVFaCYCYpEZkwWmEQVEDwBIS5VvFIRku1O9KCzJMAL0ylbETnMC8iG+cLMR1gh9DyBwUygO8a1hX06dyKhqJh7OH3/dPz/8yu+bdPce6Nsdzjesn/mxu+2O8wQwI0jOEImKOZSmXqiYpUV+TQs/g5CMUkVbG7DsTkiz4jEiMBEjgHAxNAROsKsMI0GgBWToSbBpACooqgGhOCI+gEccb+iQYVZzRSZkdF6gVemZgDB4TTaNIEnU8CZwLAzQGCEijEQMIEaEGLPoyOMAtYpiqnNTRAzMyC9Z60Xd/27Z2e+tXGxie+b5rdj/p/z/v0a6/5Fun8J71+A4/9ybUJC47kZh4oARkSICExQOdPiZxSjslhAOIdQQucYgiu4jIHRM2S1mAzRHGHFVDs2UAbxDrJCFsiCYshozkEvYBOwIDsieEY1M5WsaAa9AFlMRAmgZm7FkooaeQIwC4wDB54xzS0inGXoRDvFskuZisdhQEgIpGTFKEFguGdtF4SwY6d8Pllvg+u51llsovnUm92/QYrw35vcxcX3S/39v5afnQFocUcAoKgyRFUoulQVgawgNIEtfNS5bwVgatDl+f9mATefTCMiJDwadbe29jZXeidPrHbZAEwVAIHRAMkMpwm7DExAZHMHEVGNRIpPBEmgFYgCDg2QPAMoOgAzFIBRNqegQEnN5hFDRDRDAjNBmu/Z4gzSPOhUJorLpBkWHUcLh+rerH/X5N5nRJrp/UbeXBEv8Gd+C+HxGtp9++zeRyGCmUOe+xRzIFuolyL3AmCCiLYY3XxPKxx/MpQVLOY/morkGGNKaXv34Hd+5wsvv/xyL/Df/dt/66FHH40pJwE1IHbeMxIjAOHClSsWBiggKzIAAgF5ooA1zGMAaNaAJYVkpmaqZgZk6s1UzAxUdS4XCAZqUNz4gir3ZvgeMuACjrE8zLFffewBFGgyMpLF894z561EkYEXP9y/ZsXmtvs2yn24R2aGhO54NebuzFy1HRth8x1ohgpGYIoIhmrzKAwAgKqKdrEbj6fj8WQ662KSLHJ0eHjqzLmH3/FOx3x1Z7YTb3Rt3Dsc7h+Obl27piou1ISMBERExMzOMRIau+BD8M6zY+cr7xw79lXlnKtCqIKvm6qqQ1XXdRXqynnvvXc+lCVTAFNVU5H5X6YyV3AGC8sezJAAFI3mIZ0FDOFCcKnIIcwtOkRzC6/oeJapxBAW6vF4fe+LGMyNKDMr4H4cSSzKxhEiITmGyiEixmyqdmxYFN0MBAUyShhVAdDQEG9v7WDOvaXBaDQ9PByNJzNRYbIylxsnNpbXVrouacpHRwfTyWjQHzROdu/c2L979WBvCywhUa9pvPcxZQBUw+Dc6vKA2M261CUFICJiYjEQQ8mmpmrIzhN7X1VVqF1VV1Wv16t7vaY/6PX6/ZWV/qDfLA16S4O636/qwMwIaKZghiklnDvjWFwxRDBbSPA8xgSA91QDzcX37agPBMduzNsMpmMjB4/N8kUc4Z6hXm5yrjhfCkkKXBZ3Zh4aojnaHe8qUAQmZsfD8XRva2ttffXoaBS7NsdxwOSb4FwwACKnxI2C9Q0XQf7RcHh0eBBYqoq996hWNdXq6srG+oaBtV1MWVStbqqmrlfEUhZVVQURFRE1a6dpMpmZSNcCIXWIR6JS8AeZiJACIgMZoKvqpt9fWlldXdtYO3lq48Tm2vjgzukTK0+85wkFKIr6HhS9bQKL+MLx/C7g657Lu/AD4J4KADJUtGO/xwjLO6TFRZ07lG9bQ6eLfRt1DjiIhDx3VgTEAJkgEBJCJ+C9J3SxnXnLT7zz0TZ2R8NRO0mxnanm2M3WVtfWTp788h992TQiAKGpIRJvbGz0Vk90cUYgjOgcrwzWH3r3O7Nir2nIh8l0FrtkZs5RVQXP3GURMTBAgl5T13VgxP29g53bd6aj6bSLKamZRyRRk5znCQk0RGyWGzDs2qO7t4d3b9969SXf6/cRaefGi+9659l/52/+Ql1XWWSOJyUasoiB3xe+14JCx87a/Uu1MHiOQWl+F82j7VhSU4jFoZ17lfcpAjIT9za/EYwQCIEIPQITFMwpVmlWc85lg9Fwfzw8irE7feb0Cy++tLN1N07HDz/8QFUvV8H1+kvPvfjKztaND330o1GMiHNOIipmo+GhxCwqCsbsAEmyHR4cHcFhTHk8nnZtx46r4OumXl4eiOh0OstJcs69fq9p6qqquXanH7iI6KaTydHhCB0TUErWzrqcMgABEpFbObHhvGdiACAq1jSC4caZU89+/df/4X/+9/7Of/gfN71GRMAMAc1MUXnuYM+V6wLYywVqNI/2Eagi8CJlpACMVhAESMlQUef2ysLhOg6flP1iZoiKiO4+/xsNUIrpYJDmqUQgQqcIaGrUxniwvy859quwtrp64+7u3Vs3Tp8+d+7UE2cuXMg5i+QupRe+8+y7H3vU+co3HJPGnIEIDZhE1XJOJbrZtu10NO7V1WzazqZTzdk7VrMUk4k4pMHKoGmqqc5EsGu7KvjYtRZh9+5u0/R9qADdbJYkZSTPoXY1IWBVBUCMbTebtkgOEdmHtbWVlZUl5wOyv/DA3/yDX/ulf/x//y/+9v/lPwrBq5ZgDvJCrnHhJCysmOL9ABroHC+ADBbIAyVBQMV0VDOQhbGrxyYQY/Hb5x68EpSvc/dwb7HvFtYXKAIookKEggMYUz518pT3LqYkBt/61h88eOFSp7Z+6lSK2UAI4Mbtu2k2PHfxohGHpklpTERqQIBmnWhOWUyVmVNKItDr+yzqZn427cBMVKq6CnXlq8DODaqK2InodDJTQ0+ERL1evXl6E9jT0SjuHERRjbOq58BUxaq6Slm985/58Q/7KkxG0/F4JmLtJOYsgT3V9af/jb/+u7/yT37xv/6vf+Fv/x2ikoC9P5P4Nl/pu1D7f+N1fwTizwQk9P4r51rdwMF3oV65Gf6sK4KK1O81TdPLKbLj69dv5+nEDZZ6hKGqTBIAmNELL7xw4ezJqlcbclY1NSZGVYWSMBNTKQ61iaYYUwohuKWlftd2KXZM3DRNf2WlCj6EgI77SFk11A2YVVU1mczaTo6OJoCcYwo+qGJM0SQBkokx2+hoNkqz5dWVd3/PEymnLsacdDKaXL1y68Zbt53x0tLST/5b//6v/3/+8a/881/+t//6X4sWTRfiSXOtu/j32JlSQCSbBzHsu6bnvkzw/TG74/8t8cJ5LBDnah0BiADRoPw9//P2aGLxEIiZIVd1U5JEyfBbzz57+fLlg6PRqdNnGK2uXR141rXXrrz+xOOPee8GSw0h9gb9peWl/qDfG/R6/X4I9VykEIjchcvnz1w81x80SFA1FTsXgjNTU8kik2mbUwr9qr/cr/uNEqFz5N10PNu+ue09VI0zkOXVZmN9aW1jsLRUb24unT9/sj+op5PxU3/yrdlsmmLWrKbSH/Te9Z5H3/O9j7tAVUUbJzY/91f/93/8x7/3hd/63bqukN4uv8dCPc/KlBAGzIP0ULy7uZeNC6sJ53F5XNxk5Z2S3gO1eYB9caWpERWzARZ/ENEUwWjuX5SwCFSeluqanZsmiWL7+wc7d24366fAtLe8DESBqV+76zdvBpDNM2ccM5JjACZlMpQEkojJh4CEJa4PAOubG5cefvjsgw8o4MpKv25q9g4QHPPS8iBUnkNwVYWOXXCmGmMqCfSUYzuZ1b3GB99fGiytLTf9pr/c5+ANaX192Qd+/dWr+zsHRPPUmohKlrPnTz72xMMhcF25C5cf+Jm/9r/7l7/yz5958pmmqu9F5cxUy7TdWxJbvAAWUw5agOX4YruPPHR8F7z99bYrAciROTLH5tkcoUdwiCU2x2CMxgBMVGHmugYDQmSiK1fevHTx0nA6uXT5wUEvnNzoryxXIYQXX3rl5OkzU+h3VM8yATkwiF0UwFAFYio0KyY2gCTSzWbe0cry0vrGRs5aN1WoQtPUo6Ph4d5BiinHVPCq7tU55Z3bt4f7uyU2Pjw43N/aySl2sxkRmimgVZXPKW2eXFta7u9ubT/79HeIELGkANVMc84nT26ePX+GCULAhx9/92f+0l/+p//tf3X96o0q+EIDKZBwDz3+zMvMDHT+Vwm9FzmH+cwe//3nv1SP18yBFYoXAIBR8SJKyHkBXIjIuNwQNnR7P4KBar5+9eq73v2+W3e2e6vr28M0aZEs375x7fBgNOv09774VWY2sNy1G+vLFx64SKGKEcygqWpHzI6JSEWnoxEROuam35+OplVTE6KIAsDR4aiuU9NP/ZVBCVKY5hAcMXnPmpUcgWYiil3XX+p573LOzrOIMtPq2tLdW1svPvvyR3/kQ8zMBHnhRanaydMnJefpZAqY3//hT2zfvvaP/9H/8//2n/y9Xq+OkuZhAltkzu27+RmGhQt2D9bn66L33OdCZVh4wHi8M+bRjQItCCRief4HJJuIiagKlCCKKWQAs1Q31VLItdNBTdIeNA65Cku9qqkrNR21euXWznPf/PK5VXr43ObZFbdWaWVtHB9+68lnnn/uxWTQZbt+/VY3m3IgJCQmNdnf229nHTMvrywbQs4ZACfjaddFAGjbdjyexC7GmCbjceWo6dXe+16v6Q0aRkTEKnhTExUAIOKq8k0TzPTEidWqCtfevL5ze6eE14mQcJGjRDt9/myoKlNRjT/8Uz9Hlftn/90/ZcfBOUcuCxqwY3+MMKpaRPdY+o93w1yctQTN7Pia8u8isDy3Lo91hpmBgTvOvC78uuOlKjlbE2Ik252xaxUQHMjO1o0zZ88eHh2dO3/WoRKbGszGB5PR4cr6mdWN86ImgLNZt7QyUuDZ6NARkvdpOlXUpqqHNCZE5/z1a7ce2dnbPHVCROq6ijERERGZKjOqwnQ6m04my+trXRdVFRFzTkjkmIU5Z3FOAUyScO0IgJhC5Ql5ZXV5sNTf2d595YXXLj5wMZsRscKcJWFm7PjM+TO3r99ENOfdz/31X/hv/v7/9bd/64uf/YlP/2d/7z/dPxxX/Y3LD1z+mZ/8oZWVZVkQvQxKUN3uzygUIgYs8AcRVXWe2DG9TyEUawnuVzY0X7z71Mj9L0AUMwU3irI7yZMu740ne4fj1fXN2XA4GCyhCYEhSDseHhyO2llOSdsuSsoi2SSvLA1i1z35x18dbd3aXF8xI0TywZWk2/Dw6Nk//eb+zsHezm5VV1Vdq4JzTExEbKbdrB0PJ1kUkVRNFRAxxphSZufMIItWdZ1iRgAiamfdZDJFtKZXb5zcAMC3XrvadtGMAMgMyfmqrqu6Ysam36xvboqKY9g4e+Gv/q3/47/61V/56tee/MbXfvelb/3hi9/+yhd++1dfeelFJsZiwJgVfssclHShhouAq2KJpxbnywxU50HYe+hvZjaZTERkoQP+jHqZKx9EAEiGObV1WAYVAhO14dHu/t07KxsXgoOqaVJKqpkQ23a8t384WO5OMHuEUDV1r19XPWZX1dUrr7xyt8EHH3v0xmS0vX1nbX2zdeS8N9NbN26OvvD7XPngQ4ppdHQEYDlFEUmxm4wPR3t3b7z2SqgqUCjpHvbewMj5UPXrpheQJeWqqti5nLuD7d1ddkR4+4030mj3a1+6/vpzXxuNRkauCdWDjz568uylCw8+cOrC2XMXz508c0pV23YKmN/zwY9+5qfe/KV/8s+Wlk/G2Yg8qcTh4QERlc13PEdzacb7Mmdm86yLlkwoqIEVB7l4VVR4hWims8le18a19XUzc7QIU9z3wvl+AciQ21k7HU1UzZDW1tb2dvZMsZ1Ol/uD2WScs5hpU4eDg4Otnb2l5cMT40l/aSnUfQQwYN3bzaqhCgTadWnr7p3RaPfEiZPsyDtPqKCyt32jnc3ElIhSiowMaISQkqTUTceHRIyIVVN74hK9ccEjYk7ZjJbXTvSW1qb7+1UdYju+c+Ot1CWRHLuJqkjOo50r7GoX/Jj91u2rJrq81AyHswsPv/O9P/Chiw8+YAArG5sx2yd/6i+/+OzzN28EGCzt7e9OJ+PYTb13XXvMmL+HKGWqv8tUna+QkSIgOscOkYhweLR3uL8jpssrGyJy4/qVlZUPELMDU1gQCOeTfwxkBk1V9ZvQdVlUVNVyXls9Gd7ZiGgGd+fGNZVc1Y07eTIJHAzH33jqa8+98HzdHwRXs/eiObZTA5Kccju9sTO5fvXq6ZPLofL9fr+bSdemrAmJfXCYxAC8D0xOcpScCCH4UFd1VVWI0F9a2djcMPaxS8yMCM7XrmqAmJgByBBdVV1oBl1UEz17+czGyRNEqKqFV2AIy2trjr2lOB6PYicicvPaNQd65623Tp2/kE6d+shHPvH5X/2ffLPcxUlV+fPnzg36PTTNIiKSRVWO8fq7GVoA85AqO8/OqcL+7s1b116umkE3OfrT3//8nd1b65vnvv9jPzFYOnlwcLBx4gT+1ue/sJh3QAAjRDUkVLD+YNn1Gs2iqkmli53mzERZTSRrMWbnP4gZ7O1t7+5sHR4dDQ8PR8NhOx1Pp9PJaHR4eLi9e9C23dmzF9nR2dNraycumLlQ9waDpbrptV2bU4o5xphUVFRS6nJKJilLZseMJEamZkDEPtRVXdehCmoBqA5VpWaate2m0+k0JzFT9r7u9Xv9QahqX1cra+u9Xq+qPCGaZEDwzvWa2jleWV1rvKudnljvba6vIeLN61dHw9FkFtmHx975rhCCpKSSNcWcUmxnXRdzyjmLllXQBfEImYDIhb07V998+enJwfYbT3/ttuyevfSuzVMPb29fu3n1Spx2n/jMXzp74dHtuze/9wMfx9/8jd+9t3gLE9UQQl1vnDjRxa7rRFSSaM7CzKIqaiIKgIw4T6YvAuBZJMaccjJVtaSSUZJn+c7zL/3Ov/7NLIDMgwpXT56fHh0ASNPrPfzYuy8/9K4slkRMwZCzWRZoY1YlMEuSVWLOnaaUUiuaRBWA1ECyZjEAqqv65OaJy5cvrK5tvHHldjubPnBh48L5s3VdC3DKBoAKmLJMJ62YNb2GyRsAMxMxlGwhEiK4wGhE3jtmdvMIDjGxQ4fEpGARRVAzStKcc+pyjJJL9hMBcO9g94++8IvbV74tuT66vZ83iXDl6OD60srJlbWTZ85eXlo5vX3z2vbu6/2l04twNJVMxnwhQTU4nAx3QKIzQ1XMuXGu7cQ7joqomI2jFS4vs/dIRU4tmsxSB6aMyqzGkMze8b4Tu4fyJ3/0BY8aM3WTkfdONVmeBJgOKlGgmDDmnFNEERJD0GSWM7ARGDm3jMHXxM4xE/kQmqZxPvgQSkrZOSJ0w1YHq6cTHr5y9fCNq9vT8XA6m0lOkmLKOSVRlZTLfImqmoKZmhogquHFs5sf/vjHpllizIPB0u3bO99+5lvEzvnKOe9CqKraVaH2oW5Cf9DfXBs88uilXrPKwcjy7Ghv7+brr732zOHwxtbwMKewdPkMq57YOBtnB/nocMbcrp2f7V2Zdgfslq++8ZzTonJ1Hq2b26tIjsByG7tORLJmJnr1zSvPPPmnn/3Ux3r9Bs0CIBKJGbLf3Roh0tLyas6mwiQshslI2ZFDRmJ2Zy88cP36dZV84cLFRx+7eHB4dPrc42J2Y7d9/Ut/hJaZeGV5ebA0GAwGoWr6TTDFLsq0a7uUVTSKpWxJUZWdq0Kok+SubSV2OXcxtiZJUsqaJGfJOXVtSlMRNTW1kqy3ksEqITW7Fy0QVTTV9qg52r8lIJK1biryvRuvv1pYeAaIxIAlFuMQGZ1zrlpeW+/1l0JV1XVdVQ7ieHj39s0bdzTl06fP9Zc2H37kgxcvPyIIt64/m00n7Xg6ORiPt8xyIL6XkLk3/QZEYCIaI0jHKg5g93D0pd//46tX3jq9sfLhD31fzgJgRIDod4/aX/21z2+uND/12U8ue1JH6liBVM0AVNGATGiznz7zIx/a3t71oXflymurq+tPvPcH6v5yl9LwaLS1dWfr7s3rd3fjtTuz8RFoRJCV5aXTp0+urK4Olle5qQG561Ib07SdDkc7V2/fPjzYnc3GJmImKjnHKCoqCqCExM6hLWYaFsZ5KScjwlKQMGeQE7IHwL3pzs7dq3MkNjMDdq6EjRGRmZx3ZtrlnLMYGFM4uJlFDZElK7JDcq4anDjxvgcf7o32X9m+/cKtm6899Mj33bnxIs5o1I1XN9oPfPgnv/blf3F4eE3BnC1UCN7H+SoP5Oo+Qy+nNs0mAw/f9/gDF1erD7znCcrmi0tndjSefv3JZ2/fvXt3B09//ekPffh7s+ZF/p90TrgDM93oxZ//3KdULauo5DZK1rvYHQasqwEPqrOXLpzPYqNpJ4pt27aT8cHB3Rt3r730+vOzybBycGLjxLmzp1Y3NjaXeihdWuNbV7djbOuqDt5HI/BccXDe1XU/hKoQS4gcEKuqqSGQLiLxIiWgQGVREGnOH0GkwvVFPrbJYZ4QAwQqBVhWCtOQ1awQM3PqUjvNaULkxqP9O9fvBLolYikNn3/290NFkkQ0He5umYZLl98ze+GAasZf/dXfsvsWAOZ8dDx3emXl1PnDSZyNh9PhYQWtDndylpwFTBGRCQBB1HZ3d3/1t7904cTau9/56MaJjabXE9PgnKFlVUBUEUAC5G4yMjBEClWFzsUoYBlVs0hSUoWlJiQMd4c2bDFGiMJJKac4nYx3tm7s3r02PdpFSGdPrc66add2ouBXTrazzjs+f+pU7qZgurW9lbI2g5VZtPI4hXVEzISoaiUHmdVySqZQwvGMJZuIyK74S2bmHCM5M0ipAwPnK0PUnE3B+wrZSY4A4JslQDp1Yv2TH37X17/6R89/5+Vq6eQKDP3kWtvXWW6nIz15YoNcb3//BtNgee2Sczg+vHZu+RGnWjw4nIMhIRRehAuzo73R1BiUvZ+MxzZrs4IqAEBWOTw8HPSa3cPht77z3OlTJ/tLy7tHs6de/ubR4eG07S6d2XzisXeQp739g831NWQ6Go1Pr6+snT7jl09/+4XXb1197Yn3fS+gR82IGSEz5Yy2OgAgXI3Z1GKaTSJcuXm4dfOOSru2Olhdrs3yB7/ngTaNXn7tRnD13lQc41/4zI/96I9++ubNW4cHBydPbL704re/+Lu/c+fWlf7KKR96BjAeHu5v30TEfr+/fvpizLZ/51rbjpjciXOX0Q2G2zfHwx1mOnPpUeDB7o2XZ5Ojpr90+R3v39/bv3vlO6b54sPvDoPTV199qm1Hlx95olm5+NbzX5HUPvrejzWr537sUx/91Gc++b4f/Pj/+7/6f/3pV35vt2tPn1hN42tG5ivvq80UW0Yf26Oj/esxT9Y3zt48uOpsXiViOE8CzzPOB3dudLPJ7e297aPxhYcfz9OdK6+/WnO9NxzduXObkPYOtjfXVm9s7X7nxecK+bXX9LPIbDYlgm+9iL/5h1/zIXSx9cxNVXWx+6uf+/H3/dDnxrO4eWKsogr1NFrOnjmoZE2zu8MEd2aObGWAqz3scVprIIA/2O26GAkxi4mAWre6Vq+sLcVJrDz+9E/+5A/9yI9Nst/YWFvq927e3f/wxz/zzne867/9p//Na6+/VDXnASuz/PADl7fubs9m4xBk2mk7HaU4NecalzuNsZ3mOENf1a6zak1y0hQtt6iT4AMCqFovRAzU7/djN87tod+46H2V2nEcb506/9AH3v/OnJWqU5/5qZ9/45UX7969trO3f2azn2Am2bdtnEy2nCMYO/TaNG48upticjpXvIhgqnPmSuGx7hyOnvr2s29eufax2fjM2cE3v/NcnqSosre7XSiCs2l7a2enDnUBsbZrzcx7b6aEoJqn0wQAOWmXJHcdVCudG+zsvbUy6PcffgwMlkSnszyLMQGBVbHN7XQ6Ho/ugjx2aYUxq+hyr754duXa7d3C2jGDyXTWDAaGOmsnm2snLl16YDI9ODzsUpSz589O23Y8mV184KEf+ZEfv7t1jfx4NtNeXfd7SzHfijHHdiRdR+y8rwEwp9l4eqQava+IWNJMbIjOOR9il2ej/dCcIVep6t7u/vn1h6v+Oh7ujkajlXTI7BHc8Ghv5/qLV6/def/5B076cO1VfeDBBw4Obx/uDWfpxNLSZVMQsX7/IrNrGltd3uzSjB0h4RyC5nYZoCE45vFk8ov/4y+98cbrk+nENHmZvPd7H9/f3ZVOmbnyAc3atmunXYpdCVRRyTrNg1QsJojoGJCocK1XlpYeeOjh//I//0++/fSfVp6bpuk1gxMnT104f2Ft48TSyhpXvRy57dqum8Z2tntgSzWZgMSu3zAzmiqiIUHKgqDOQRdntXPOZH/n4HA0Oxy2zcbZhNWLTz35Pe9773ve8/6Lf/KI+MNrrx/EmIajEo6A3HUpzhBNVR376WQagpsSqRoRjI6mYWAmGRCJ3GR4SLEkUGk8nk4ObuY0Y3Y5q6aJmpJzbTs7Orh9861Xmv7S8sbpOBs9/PCDr732rOcwHB55bpwPKSdRRYie/XbaVgUiCp6d3cvVQ+HJuhC+/NWvfOn3vlDUf7/X7E7jr/yrL7Sztq4qBMxZ1SA4ZsIs0fG8mcQigA2AwMRwr97B1GB9Zfmpp5760u/8OhMBgHMkoum5hABV3aytLF+8ePnd730/+wYsea+A+uUnX7x9e8cB/MAPvruquOsASYgwJiEiR3ywf1j77a2dva3d3c1Tpw92dp95cjQdHexvXX9zqdncPPH4O961srE/O3r+6ut3109vXrt+xVTrUB2NJ2qKAKK57dK5Exv7O4cAoKpdlJW6Z7arCgDa1INhOyxxZ+8CgU7Hh2YmYjvb2yFw6rgUfl65emX/cPj9H/zww5fPtMMzrhoEp6KmcWrcAqBn88F5xzIet5AN/cFI3biNC+MTjZAJvMmdO3eL5WUGIta1Kee8qJkyYiyFfcW2W5jZc3rrggc2pzWpzRdhZWXlmedf6NUVE6sZIIRAVVWpqhnsHx7u7H3rpZdf+rEf+/T6xlKKESmP2vjCK28hUX/gH33PO3JWMyagrAZEKaYq9PaGh8PxeNq1t2/e7ld+Y3XFndi4FWR/f7uuq52d3fU1yzm23eTbz31T1ZqmmbWJkL3nLNrr94i461JVV4PeoNQai1hdVyuDVQSYtjOVOBgM3NIqMAyHI3awurrexc40FcqDiG5unpiM99vuxvbd0yur75lN2ywUTE+fPjcZXZlMbhEOBrUZUNblLh5wr97YvPCdb33H7eyP7Nj+BwBmDr2Dw8NimBKRmu3t3CWHQEimYMrEzKSlfwpRESUgBJ4b/TCvCoK5oy+GaJ3B9t4+GOScVRWJDBUQEdk5Agiq2sX07aef+Wt/5cenLQBZVbEBENGd7YP31S5l9Z5VDQlH49nd3b1xGw3k2s3bn/7UD6vSwWR49/bVvf2DQT1YXu7XTb27u5cU9nZHSDBYXt5cPzkaHmqSUydP3b55+8TG6bpqDo92idA5d+rkuZxyOxsPetWBc4Ol5di2bTddXVsbDsdN3Z9OJqtLg242dVynFM9snto/PGwnUyS6dO4cmJ4588BoeJC79O1vP4eGJzfX3//u9z715NbBIWOeiGjd5xxTJq4t7tx9qa7Y5RwXUWwoFZLYtu3wAACIXBVqQCXEnOV973z0Z372Z+7sHFy/ceP111/b3d2dTaeSM4AWO3veqABx0foDTEHVRMxMDw72c9eJaIzJe8fIAKBZFMSE2TtEZHa37+7duHb3M5/90PbO9onN28uDpdXVldF0NjzsIkDXxhSTaZ7Nxjdv3q15kKF79Y1Xv/97f/DE6Y03n3u+qqhXN9kQ2H/rmecm08mk1dHRiIhOnz033DvMqowGll1wqjYaDVPSqqpc8LPZVHJOKYuI86wiWaRsViI0la7rDoZDAwghdJ3bPdg3ACRKKd7duru+vnndAjxy8Zf++//p28+/Mmj48Uce+vGPPLH9ylfevNaveg7QSAPkpFlnUcnAMbs3vvlbquYYc05qmjWb8cHtNwAAkZYGvdMn16q6un779vXbd//4y1+9dOmh73//Bz/z6c+qwWQyunX76pWrb127cnVvf3c8GqcUoawGIREBohqYGiIbAJIVM6mue0SkaoIJREswJosSuy7nbz//+o999mOXL188dW77P/rZxz732GQ3nThcltd2H8Rqc+XExmBtOY12f/bHPvMHX3v+d3//81mPfvl/+bXPfvqHH3/scVV3/caNlOXF559/+ptPr2ys3r1xVTUD0ejokIjAIGa5tXULlVyzbIoq+c72XRVAb5UPs+l0a3fHVOuq6to257x/sMvos4maHA4PHTsRZReG40PHJUEETX9w+vSZL3/1K9/41kuOBznNfC889OAjHQ506cJ0/PJklMi5EBiAUspm5plSzm56cD0wce1Bkhh53zcHVcUAwEyb66u9pq8mVXAHw9E3n37yqWeeZKSmbtY2Tpw5e+78+Uvf//6P/NAP/QR5PxoPt+/eev21V3bu3tzZ3RmPRjknBCJiJkBSdmwGzjlmnpuU84YbAIBt23mvzvu9/aODw4NJ19tYH/RmuDl89lQv7vnLe7I6HeXv+cBjG5cfbXpuvHP3He/56CuvvnTl6pVQb//iP7/x8Y984tKF83fuHDz7nRduXL/SDOpbt6600xEAMdLq6vruzm7TNIdH++jnvBADUFEyLKzDmFLwPsIMAEOovZ/qRD17NBQVhFKDJWoikr1nIiZ2Vd3cvH1zf//oxo0bANeInKpNh73/5V9/4XN/+W998Of+w2889+L2rWuMLucOwErKPouoilvbPFlXlWlGYnSVD31XV+vbLbxxbanfZMn7B/u9Xt87hwQuOGIysza1N25fuXbjDXuSELjfH6ysrJ05e+Ghh9/xgQ98bGllxXs3Gh3duPbmjetXbt+6cXhw0HYtzqNaVCp15vQNAEQUUQTwzg8Gg6Nh++Zr1y4/fK72cm2yNrn86Oryjf7FddrpNRFOnru8eeERABzuT/Zf+eZf/yt/7e//w3+gGpPe/K3f/R+JGiInWcDSwe62SC6pvSyys7PlOMxm06oJbUoihuwgpcHysvluOm0ns2ldNXWvV3k6OhrtHR6kJKfOnAaX9/dGSNXy+mB5hW9eu5GhapaXziy72zevbZ57PFS+cd31a1eJybkAhiI6GY+fefprw7b73L/9dx974r2+vZFUWMEvryydPDPZvzseHkxnzj3+sX8TADWbrytmBsCqbt7Y9/D1r1fBLff9Aw8/9OZbt4icY1YARiQiAPDkjZmYzSDndnf31vb2jW9/6xvO8ekz51dX186du3j2zPmPfOiTa+srOef/+V/88rPPPFuQDQxTijlns1LDpTlnVYuxm05ZAHZ2t979njNLA/+tafqbXzzxjksPPnD04BhOzyT9i9/4w/VTL05nk+HOLcixv3l+Y+X0lZuvLq/2nAPJo5xBs1npsQQwZ6GBJbG6v8T10tmzK9tb12/e3JpEC/Xq6kp/Yx2f/fazGHqZl/uDZnMdhsOXhGv2NVUObd8MwmADQGezMaGxrwTc9vZu6ro6T7toW4d3Upx59s75rosqgkg++Ds33viNX/6HPU691dUsOTjnKt+Nb5pl54DYubZNzgXnPSDFrnO+AsDVjfWm7jnmD77v3X/1P/g//4P/8h9968mvGpiJkQczC46RCMyy6by60MgQTNUMUmqrqr5x8+obb70sGUZHB5sbJw8OD7B03SoFWmaqgghry4MqeABwzinY7v54PJwe7I8eevBsszF+4eWbn/+dr3/pG3Dm9Gvf/33fs3fYzsYzNQEzS8kTHk7ao6PDfrMxHe+HujIlESnj0EICMVhYZBJzi4i37+xMx2MiUJm2sUu7o52dCRIBTCXG/V3Z3Wk1SydbBLwzjCm1aDCcvSSqKlkVptNXYE7Fovb263Prg0BBulaQ2Fc1O++rQW/p5HQ8Phzf8S4zU1aUWZtiN+jXg36Yxehuvflir7/C3ptmZizVH/lop67rfl2trK9fuHTx9KWH8E+/2lTV5YsPnTlzsm3H27tbR6OjFGPKaR7LW1C7zGxnd3t3b88550NQkdi2B/u7PlSmQITeudOnz+/ubvdqPXvm3GAwUNXpdJZFJrPZ0ajzwb3+xu0mhH7dvOOxC6c3l2ddmkyG16+/8T3vfbzN68Nx27bZxBBIj4b1YKCK+VDbyQExqZQs7TwXMF8EgNnkYDo+MJ3XjSLi8HAL5uuDBNyN9wDNOw9IOSXV2fEaLrgm84AxIrNjRAagUPeqqo/OE1fsK+8q5MBcGaippG50++qrtbcL586lFMXA0KreSifigNZW0E13Xj28nSVnQgiVQ0ATMdFBr66b2sjtbG33lxomrt3g+s0bR8OjjfXNUycffPBSM0vTra2b4+l4PBlJylgKC3HeJyannFIsldLOeSQucWA1nUyOLl88tbmxMZnF4TiqWRYTMefq/lK/S7Od/fHeja3H3vd9q2tP/Pq/+tarL78KyG++dWM0Gp5/4DyQEWN/qX9i48LRC3ckTrNYVTvNS9143HUzJLeoSsR77LTFX4vAe+nqN2/RZsV/J6eGpkbsXXClRBOxtAAhIkIkRAakUgQskglN1DR2ZB1CnJl0s1Ytq0THLoQwmwz764PJaMt7d3gYkbjfBMdACMzkTKVipKbRrJ5pdHBwsLPbH/Q2VntLy8v7h8Ot7R1SyQCaUpe6/cO9vcM9Amrqum56mxsbD156nAgm09He/s7+we5oNFLNIkBEjrlwN5BQVNVAVGvvHrh0FoD2D8eqCoBqWNioAFCHqgpu1qU/+PK3H3nvx8+eeeDUuTMvv/wyIXJwk1l7/fqNUHsf/MHR0fWbt7pZim2SbBITe18PVgbL60AsqqZSEu6lepvYl1Jo1WzHLMN53VEpHEYzMM0FGxdQmUzVTFRNkmjJJJssAgFS2KGmiAAKisAAaMjeB3YekE6fObuxUjd8aCieyRFUobRRUEBxL712DYEELEvKSWLX5RxdODILjzz0UG9l8/VXXjvY3UlJvGNTE1NmArQudjHF4fDwxo1rdd30+0trK2uPP3a+bqrh8GB7Z+fwcG86m8wFjAiNcs5NXT366MMxadd1qtp1cTabdF0UyUjY1I1zPniHiP/qj184pH/ywz/0QbWDJOIdgxmUBnbZsiaJ2Qwki6maGCCKdApw8sS5WZvarpVMatlU1MTMUp6UaImZisocxA3UdN69CotvXhan5LzwPiVS8LUQxgmQmDxwVcisiExIxOzYz3fYnK8iqpLzuF5CQ2z6TCXfhiXwb258NGQ2Q6saGs46UltZclXlDsf66IMPvPP9H3zllZf27tzWOVObs8QsRlgq2x0AqNl0Nh1Px1vbd4ioqZrVtbUTm+ceuPRIkjgeHu3u7Rwc7lkWMnjs4QfVcDqd5KzD4ZF3+OADl86dO0vsbt66e+vG9aPhkSkA2uHR5CtPPbs1HE26FDwXqrBmjdMUKSMaMnLppFVgWsRUJeebN68AmIjMGVRq98Wn5gGuOakKEecNpwptixgJAB0zkcP5zCIAIhATHyMS6KIUoFB1CwcUAExVkqoClOYVICoG2QcPzPMkNGDOaqBzyLtwbsMwESGQndgAUyNHBDSJs+39/dVbrwVnH/rBDzz3wou5nTG7lDoAIwYROU5kLvjfBACzbjq+Nb5x87pzrmn6p06e6S9tTibduN27eP5MXfdG40mM3Xg8vnDpwkc/8pGf/7d+jsiZ6ud/6/euvP5SF9unn3767vZddNi16er1O+xCVYU4a80sq/Z7TdM0MaWUkmQDKIQiM9HS3xQJSyEiF1kGonlKnQFx3o7LaAExiAhEXNiPjqh0sChFbMd8Ws2ipqoqkkzNVAxMTUt7LAOVJGrKROxYRGKMIlL64/Ua71xJNYJYFsNCcRUTQHDRd6DCQMGHDJqzMhWYMyRjjEfDg15/eWVtc+vGFUfu/LkLwXmROJyMu3Zmdq9AZ66nFouhppPJ6I03j1TNO7e8srK+dmIyncWc26594r3ve+ixd3RRZ5NZMpyMRvuHR1eu364Y3/e+93/x974YuzSbRKZJ3c+hce1YRfLK8tqFcw+fOHGK2JVyclHrYjcZT2bTSZeSqRFTSimlWAjICytZbAEtqqKmYPegxlSzZMRSDAH3c83nEl7ivlYq9+fgYiZzRgXh+fMXCOmNN16t656ZTSZTYqp8MBAicGHeD4SZUhKi0jXQmZnLKOQACSY6K2tGBlnA0LpZun7zIKW4s380nkwRIKZ0d2trdXlleWXl4oWTiDibjseT0WQyzjmpmoiI6EKDzV9EEGP0YSMmE8ntbPbgI4898sS707QbjkcvvfTK5Ucf2x+OCGl7e++Zp7528tTJrIkIZpPWOVIQIuti1+8tV1Vz586d/YNDZkfEZdVVVSSnlArXSkRKvwt7Wyexuf1oZsfU8Pk0zg3NAiuykKc539IMTEUklQuc4xCqtm2rqmrbmYgsL608+NBjP/uX/tLK2sn/4b//Jy9+57l+v9/rD1LssmQzDR6D4xJ3SVEVCHSxCwxdzkoEeT4mQCw9uA0Qf+yHP3b6nd936/r12zt73WxWChRms3Y8nrjt7aoKy0vLa6vrJ06cO32GUzftZuPReDydTrOIARSjc5GjARNr267r4mBp6d3v+14EMBe+8fWvt+P9v3L+0mw6MYSjo0Pn2Dmfu5STdNPOO9IkhLS8vOpc1XWd9yApL0oX7HhOS5R7znczSymJ5gW6KxF5H4hIRLxzgLa3t6eq7Wy6oJbPS0cH/SVVmUxGiJhFSoUZIqgqICw1y9750WioKimljY0T73jsiQ988Pu8V0njH/jgD770wgsipRTXfAiOua4xSYZMpcCGyWUVA3HkkNCxKwobS6slwMIlNgTtNf0TJ09Xvrl58M12MnQIYMZEYCCi4/F0Oh1NJzt37tZNM1hd3dxYP3X23CVJ8Wh4sH9wMJ1NU8plaZ1zgNil2Mb43u/7vv5g2Tv3zSe/+crLL05G+z/y4z85Ho9zSqYafDhz+oxoPjzcX1tbfde73nvixGlXNU8//dSVN15xzpW5RlWg0gKajoW6TH3XtXu7WzlnNamr3rufeO9jj79rfX1zPJl85Y//oN8f/IXPfe7dj7/zV3/9N77xlS+3s5mqECEAqqn39fLSymQyKuFCV0SSCJEIDYm8qwGsafpENFjyvf5SNrj04IOf+vQnNSUwPX9u886dnaqqQ3BmsrxEK8sB1LpCGSYGE1El4KimkBwhpiQqisSlXWah5+Yc72ztLG3fHh62OzsHpiIIpoqLXhSI1KttfdNnVc3Dnd3R1ta1KjQrS2trGyfOnVs3TbFrD472J5NJcD4lEbHlfv8TP/RJX/W3tnZffeUFE7l7987rL7/YLK/F2PWXl73jwaB57B0Pf/1r3+jabng0QTwiHjP70gBZNWdJaIwZAFFKNcScoV2sobS8ssrsi0Dt7u3ya69/5OMXbr32+nQ8+vmf/zfe973f88Ybr330ox++cfXqbDqdtRNiIiRVq0JwziFSVdV1XRug98E5CqGue7X3rqmC857QiKiqQzcbxbj/8vPf+NjHP763e/jM0396cLALFmPKAIAGTeOdY0DC2IqAqVhpSaqCTGrmKu8dERikUgDEJXaPHOzl195cvvCA4dKdW3dTjFUVVOd9LYp26jUVgkO0EIApq+Wu67Z2j+5s3XA+9JrByuraytqp9Q2cTsYHh8OY9OHLpx6+fK4ebC4tbzz2rve89carqOmpb/zJ93/4k4hw+YEHawef+MTHH3n00es37rzy8kuHR3tNf8DiVlfWev3l8fBwbqCTHvfMLihUCukODvZj186H11t66MFH3/s97zt/4dLtO1vfefZpBHvssUdns8npkxuPPvzOP/ny1/Z2tl04parMRIRVXfWb5uzFzeDd2ZMnb9y5zY7NJHVtl2aap7OJtbNuNp0pFvcOTO3G9Vtbd/cz4FNPfrXUHKoagS0t18wYk5glh6QwR7mSFQc0NHU5KxNntZQyGIXAasaI/X71zHdeWNrcfO8HfribTUTmBYIKuujlbTF1w2Es81E4LWbATIwpS3t4NDo83Eb2vWYw6A1SSqb4wOVLw9EBoF08u/nv/Xv/7iOPPPj1L/9xysIW15f7Zz78A7vblwaD/mh49Ohjj7z80otHR/vrayddqAxxeWXj4GAvSeYszCWpUII6801QwquhCsxMRI7d1tadbz+jW3d3X3vjFWK9/MADQGFl4+wTj11+4YUXkOKpcyttO8spq6aunc3avL8rWYTIvfn6q5Kl7WKMKWcDsyyFGIjLy0s+GC2aDWbRp775J9M2ihgT5aTs+OTJXl2jQ9KsWTITIbFaLl07rWSfDdysjUyUogJaXXkiNVEA9cH29w5efv55V688/60nmUlKzySA0v/aTGYtTNvSF6rAqBEgoSGBgZT+0KmdmswIzKzyTKdPnVhf3yByXTtZG9Q/+7mf+tAP/OBof6vpVesbp0LtvvSFL85m0wsXzr7n3e/54he+NB6Px+Nhr7/cxQSmITTD4T7MeZmlwpmIeBEKxH5vUDS/qIjk8eRoODp49fUXzdJgyV+79sKv/eov/+infubWlbeeeupPbt148+rVt1KGbtYh4mB5zbslZsppdng0Wl9bXV5d4clwfPcGMxuocxSqanVlxXmejI9yLv0vMCUVURHFeQMzqqvgPSE5EVPIoJY0AxkhqVjJUhCaATkiUxPnsfK+Ci6rBUIA8KRdLTu7B5//9V872NtFgJwlSxH/YvblnMExMRszkHNEIKLEiADIpYs8MKFzuRSv1d47H1R1Y2OtbvqqELO5na23rrx54+qVT3/2J8j56Wi0trH25lu3d/cPl1ZWb12/un+wY0CT6WQ4HCIgk4upE80LPpMe13+a2cSOy6UX9UOIzFTViChdm772tT98443XXOjt3Lk9GKw+/viHbt68cfvW1dXVjbW1E107VdOwFHKOw9FO1x2x47W1ZS01ckQxxtmsy6NkZjkLMUiWnOf9tr33znkC7DVMoBajLo45UBEgYMeECOygHN9i5taWllRFDWrHhJhUujYDAhE3PUl5XyUN+kBEktUMCTiK5gwAXAdXerHRvEQZwbN36JzXOSPFVKnUlyEiE29unrx6Y+vVV64CURWatbWNM6c3uOGX3/rmzv989Rd+4T997L3f85v/+ref/eY3P/6xH/xb/8Hf/o//T393e3sLKLSzbjwe5pQQicllTaZq93rAzKt4Ae+VMxICMTpHxOQKlxgwZ7l187r3tXf1E4+98+LFS7EbtrP1lGZ37rylpiKCgMzMxF0XKZXkXQleSGl2gMgFkEkhpaxqzOy99z4UcK/C3KxSQ0DVrFg6HKopYs7CDpBYJTvpBAEcoyZLJm3KOQsD5mJTYK5rCxWhkSPPREgYu2xgSEboUszFawZTYiiFx6UaPHYxZxHJ7FypG1fVy5cuP/6BD3/xi3/4S//sv3vxuW9PJ8Of/Own/8bf+jvP/OlXhsPxN7729QceeWj9xKnzl86dOrlx6tzFj3z8E1/+wz/Y2bqN6GLstNQKlvaDc6+12ATzlSiOASKWjh/OzUltbZttOu8agYAqkjk++fQz3/jm0+PJSCSXzVI0GYDFmEocu9TgH9dokwtVbyV3XU4zpNJVAb13xyEAU+sNHICacRZFco49OSkbAYkdo5qCIalROalExQxNDFQtJw2eEdA7U0W1bKWZIaMighohNgPvvVPTthWwebPPmMSMgMg7LLKJQIMmWCkcy2BmOeXtu9sfXaoffce7Hnjwke3bd66MD4+Gh7X3F849ipe4ne7F6alu1n3oB3/w3/kbf+O5V66sbZ7c2Nzc292PcTa39GERS7PS14LmbcXuNapVVUNEMZQ8D/kA+HlLQkNAzNlS6mazycJ7WNwimUorSijdYwyA2CEiI3sfBitrZ5aW1i1PR0d3Dw9327Ylmp+ZwMxmEAI3PadgXRQzYDDJWjg+gCZZc1QKpR4NAcARISNXgdUsoyqaJ+piClyExylJ7bhsXl8TCgFg20YzrTho0LaLzjGK5M5CZY5JAM1odXnQeDftskLGlmLWrPrSK6/8tFnTNGfPX2iaZmmw/HP/5l85febs5376p9qui223stw7GL/vy3/4B1/+w6/c3j062t3RLP1+37kuxjiZTETyvOnC/Gym0v+otIikwnIQESICUEI0kFJpvSjjPY4BmZnR4pSIMonee2LKKcUuHZu4aug9L/WWB0urjrUd3mnbydHwoG1nJRBZ6g8AkNBWV5x3mNSY2Oa8OXNEuYvOuVJYChmz5fLNzgffxXYao3MsJk2PUTlpxmAoUPvAQcejLEmdo7YTgqyKXY6py5XP2TRlNUSiUNfQ7wVB1VbEUMVaESYEYMSyP/A7L7w8nU7Z8ZmzF5ZWVv4Pv/Dvf+rTnz1x8sSVa1t//7/4Rz/7Fz/5sU98/H3voq5NX/7K17duXb9w4XTpU+Ccs8XpK8XvZcJF7NMA0BTEshmIznv4AMyPZBAVLAHicurVggiLx/2F5wcT4DzBYIhYGlAbgIogYh4eHYzHQwDLOZcwES3OiWIuuzD3GjRNXYfA5MgjkFgqjU8N5k33mRjRCC0El7O4o9nEMRBiNmV0Dl0GqGvvHMdos9gxcBYjD7NpjjGHxkLFS009s4wEgZ0fBEmCRFUIpgIMncUKSiZPYkootNwPw5mKyJWr177zzDMPvveDS6vrP/qpH/7cT3yqquvDw6P/9dd+/U++/HuPP3TyRz79o87R4+94qIv46CMPfvvpb5Tew0wsJCEEIjITMzRNYEKIzCxiJfhPJVd4r8/nopZqcR5AWcUFK0ALE78kCdDwuGduUzsRAwTnHBESYGnDW/rMFNpZiR4RYl0RgDKDczyP6WlWTIjkmJENWAAgSReCNwTvS3ZWkcD1KqdOIRFkAg9dSpLNB8rRYpuc96WqzQXukjSVryoMwRHw0skeIDjPXaeak5qpxE4FIqDHwBgcthHUkBCYpQ44a2XWdr/+a5//zz70kfPnzz5wunbBM8OTTz//0gsvpNw+/9x3ptMps2tCfM+7Hrh+/dqN69cAQCUX80O1FAcSAGWN8yCELeQdrBjAADCfCABc1EWCgc3Poil8QyQk09LnF5GIyzEFOm/+Jgwi6hiRNBCRYxUFIlXIWZwrmoIMwDvznhx7RAjBOU8A0HVdqal1Dk2NyULVQwAD9c6DAAAgZMdAqRMGQxIA8o4cgaERY6jJOzaAesl7ptV+33tWI0WxCN10xs6nmCaT7HzZWNhvnBmZqpJNY/LsKkfTtptKrho3HmcI9tWv/+mTf/LVk6fP3Lh6pBsr169ff/qZ57a2bgHAS69857mnv/kDH/3E4cHRoFc9/9wz7awFxOJJlgTyIjEoiMZMyChiaPM2NKX9tIqxUxUAJKaScgciijGXY7vAFmctAAKi86UfeUnOADGBgagpIzM4R03jq1CnFFPW4DyCJRUVY8dA4IiC9877lLqiloip3/SZEQHIARiWMnfnwBRFsmQNwWFWl1QbV4nlmHMwDOxczTEpojL74D0Y9OraUAGB2LpOSYA9tY7mnaQYg2NyyjXlTsipZBDRDOZ53qi5qXy/wslQx5NxVVX/4P/xj37iJz977syp3d3dnf2xiPZ7g36vdzRpf+s3f+e93/uDG5unvvTFLz391FPELnbRVHWeGJmjPztxHuZNj4r2VSRkXxV4KZ3c0XtXymnN0HuvFswsdsmU5gRvKQ4UeM8ILuWEqHXlchIEYua6coDlxAQJyOzZIxOjB0JA51zK2SHXVcgi6FzMxoyOGBmCcyqSY0fkBo1HIHKUYlJVZgwMrucdKCRVIGQkBcyihdPAjggRRNBgMh4jMSAIWOy6pmqiZXIYu1S5sNT3DgkNBZWDDwSRNHZKTDNJAlJYH1HjYNmmM5jOJjdu3PqNX/v8T//MT46ns5294Zmz53/sxz/7nnc9apqXlwa7ewevv/7mF373t7MIAKhmx9TGVnIGUwBjD7ywrNm5nDJbOV8Tm15FZFC6z86PcXCiiZmJzCECELOoQgjBe+66iIChZkBDdSmDSEY055XRA1qonXOuNLNHpJiyJEVPDomRPTETO2KRzASND85nRC7F7whWV04cMrMjIAcOyYSIQ9U4y5KyOl+zA3LBEWKU5IiXfTXVNB1bLmGkJOiocs4AZl1mMtDYqpiZpuyWyaMzMh9camMJ/kURsewqQsbUOXGARD2usc5dtMP9qXdhe2fnX/6v//JDH/3wX/iLP72+cXp//127u1tkeWkw+L3f//0v/Pa/nrYTROy6LgToYs45GoqrSneK7Dyalt5Pvml8jJnK6WAk3nsfQpZsYl1Mdc+lhAZGZISsIlXNTAxIRFCTI3RAiogmEIgAKzBhdkRoaqLZEQCWxhhgwOSIQJMqIBEDA4ClKjgDGDR1pTHn0uefmRcnmDKQ01kbp+PknK9q56hKbKSKn/uL71SwwDSZpCS53w8GIJJRHTM59rN22jSVKQCiD86yqlnO2sZMZEQGxsiKRO0sG5FmLaf3lAw4MauYiaiBguaER3suZxgMBnXjej188MFHH334nWfPXRqPR1vbN59//vkrb11BhCzazlLXdkvL3KYJIx0cjH2FgBBC5TxoVgOra1/1OLYoOS/OPgB2gEgppixSDo40UEJUAYDkXCjJKUIGFCLnfWDPhVfBzpVKaUJwzF3s2JH3HgRElJ3LIo5QLDN4ZkRQIl88C0eMADmp88BMKiAKiFYOocsqMVldeQNhQgZiZvzc5x4vEZQUpa5J1EbTbrn2da+HyIYJDHu9vqjmHEVS2+VC2BOBnIU9xJydc1ktzVKZcjRMaoiqoIDIzi92fmJyYNi2idmrZmZsu061q6omRUHSFCEER4yxE0miYkDSdrOTa4PDcZqMY6gIkVfWeqVPpfcAqDnSZJzaWcfk2QEzxpiJkNCrZUQwJVEFUChkVjQw8D6wI3IYfBDJ7FizxZTZOQR0nk0gimiOzrN3nghFDAnASKRTRcvCjmlxzCARBhcIMedU1awJFam0JUkiTfDeO1EREzM1NBN0bKyqUVJTByWIknq9Sp0lyabZVYhE4+mki5GI0YCJRaWL0fkAzMUdFQEz8CEgAZrFqAZa1EaRRxMUTc671CV2rjdgYs0icZbrBgwcgHoEJEKWULUxGbIyoic/GnWAamTLaz0OaJoRUlWTqBCZau66JAnIsfdklkrphw/sfFART4U/gV2MpkjosySce2IZmYkdsuaYRIycK/3KC2nMDAmD9xUVBGf2ASVnA3A+pE7IhaydWPbsAdAhhIoKOSFlqELFvthm1bSdTqetSw4IRKWcKCmqDhCyWl1XoqJig6ap2AFDypJVkqAnyJoNULJmSWqgGUPTABkpzNpODYjQeSoR7hSjOTKxnEVNRSVGCZ7YUY6RCAGzlg7MaoOlpuuyganKXK9ins0iMXVdQvPsTUXNCBnqHpKvYzvOmbqu8wGAKbY2PGwlkWh2jhxzzMnU2LGrEExSmp8BIAo5gnMOqEixOs/EpCqzWS6l0jlGciwikrNaNkPHyByIMSdBMM1RVIrT4H0AhNhKCB7RCB2YiRoThsqDYtTMWYFo1hEgZEWV1IQKy3GFoN6Ta3qV01zXdQmgh+ArV5nZ4XDs2BRIcqpD3VmnyESAnnIEReva1E4lVMRoIjqdZgDo9RoEl2NiB1FUNCFCbJXRIZjzvpyPDiaqxkwxJ+dL5zVQxZQzkQGgZCOqml4Vu7S81ksxdzE1S6F2nrnXzmLTeBVNKXVdkoyiJpkQSstLUpWcchW4HNHQth0TIrIZZukcIbEDQzXUBD54yREQUo5myKAlI1+ODzUQQI1RvWMiQOc0g3Mcu1go4YjejFQlaecdiygZEIEASDYUq2vOqs7z8nqTUgQCEXCOVMyQXO3rYDCbzVQtOJ8gxy5pNseuV/uZpJmmGGPKmjVX5LuZtikyOTMgEofUZkHAEHzKeXQ0RiT2CgDkzDIgYl1ROZMnxYwgBuqIvOOslmKHgZCcgbYpaY5END8GGC3GDkC96xWWRorGXkUR0WXRbhbbWZsSEJWMPRN5YiAk1aimOUOMqWlCVfdMFAhc4OJOpE76S31CUhVErEKVRVRiEYWUEgKriSk4xzlHAJNy3LXjwM4AvHcmBKjM6Ji7TpkhxhiqqsSRchI1rCpnAKFmVYgxSi7V4SVyx6EOrktdFGynmdhizNiqoTASgROtnHeSM7GriNNkNowto19abnJOiMFM0JFHRjM1CQGZWHKu6rqLkblEaImYkC1JLKffOkfB11kzgErGVoXImA0BzKhrI3MQUbVs2eesKq0P3B8E58mQRLLk3E4hxsxMzgMju4qqmlSRgLz3s5kWWq6vAqMDE0N0zrF3hK6EYhSsqXzssgGWM8cImyxipiJC8yNIaTFf7JxLSZgNCVXRjJDIO1adZ8KRXFUF5wlQcxIodjGgCrjKoYJ0GcAcc6i4dMdLI3U5KyFRhYRYeY/OAJK3WlVG00kWQ5Gm6RtBXfm6xmnbiYgZpDY3oUYC5zimjgycwwjkPFeB0UJp6EdAgOSdA8hcSNLspl1KKTMbM0k2QkRA1Y4wmJmBiBogSMo+YPBWNUjszVhEUspd10l0KkxgocE2iwo5pi7HbOoczU/ocupCYPMGMUYxE1NIImbEDsGway1Fdc6xZx8Q0c2mnYH54CVbCEEhSwZVNRFCNAPqOSztA80UUuVqRpjOurquRNTAJCcKYIhN3VMVU5FC0AbwtcekkruuywqoCkzkBitLknPfNRIFDJKJGXaqHrnXNCXTLWAWU3AuSj7OQokqJPIuhEBMpKCBA0BrpjllUkcGqjLvRadmgpPZrA6OgnWzSEyAioBVCGIoWdFCiT6qpipwzuAqJGfkzEy7mFQisxEQmnfeUXCSY3B1s2EpmqmAqil0rRAiMQFZ4ZcTcVUTAPSa0M6igTG72SSZJRFQyL1QxZicU/ZoCs6FnERyBmSwyOyziQFI1naSfGAzqYKvq6ZLOaYMaF0bXWATqOsQc5KkUVJVuy4nZo+GatLlnJNKMiIlhwqakzqzHDy3bU4xS06hribTKGLYVKISgotd6nK0DDJLXHkwmoxTVtMMnsV0FnzdtUlRk+WYJEbLqS2c7rrnXWDVrKKxTWjgez5F69q8vtlTw+lRykmcI0RlF4gygqpiCAEM1FJVBYBSQ4lZLMaE7F0VEMmzKydDVnVoaspJc2vEgIyOmRylhIWkz4yAjhy74Ac+7O4ctbOpCrjgzMQUDw9H3jtJWvd6CkKE/UE9nXY5CoCTLCqQRAAMBGsKSGCgVdBpByrmHJta12ZERGBQkyQZJVSkZp5g0b3NsmQARmJJ4gJlBSfRIIiCNk1F2CBTUgnEorbU7xO5Fqa9qp/BZrOpAUGFhmqdrW00akZoo3HbdYVWrAAgghvra5PJTCkPlut+01eznK2rWwBBJlVdWemjmRo2dS1O1TKzByMzQqDgGyYOveCI1VrJWOLvIpGpInaSEzMhYn9pqZ22qTX2QMhVM+jitMTxK2ARJUT2yEClCtE736W4NOjnLMzEzClGAzSYmgGoswzZSl4NnSMmMquaBkRgMsrsOQSHZKasagJaVWTmqsqJU0xgIClLSlYqcdm5ABhTJMnMnEVNAUHbmTCRK0dVGFGKuamqFHMVKq4q38bKOSJmQAcsLqAim0DVd43r2q6qXeUrUgYPoOJdlXMGguCdqsWUvPfNoGKkwaDnENsc1RsRqGZC1tR1mMy4m+nqoGJfzeJEsuYsCK5il7MhAiG5ANMJgoKrHCFUwfsQmLAJGpMykfceaocAybqUVTU3/aadRjTKWYL3VoolEdTMOzZEU2x6zWyWQ03dtFMz5yuv4H2p7uNe5ZwjNWuq4JyPObMDdorkCHFeGMGYI2iuq0AirZoBk0MwAxecAlIG3zCgmM35c2RYh9BqkiREVPsACnVFbqnutakzMVNIOboQ1pZXu9m0yznO2kGvyQAA2tQVK4QeBQo5d11sm1DNujRJrSEHqtBZv1/H1sbjvX6vR0RdjOPJpCFuU8wAKecUO0lC7HOEjNLUPmmOM0GvZrlpalHtuo5Y+8thNrHZbBY7S1FWQxVzm5MCsCC6yge01Gk7zU2/IaR22EnOksV5anoVE4pATqXPrxpg4bKnrgOFLkdiEtG6qdsWHENY6ptogs55a3ou59y1XRVqiZEYcwYzY8+a54fSOWaEJKCFoDeddGaChHVVFRggBgSLUVLSECi2mQLUtW/b5JxH0qTK4LppdCmrAAWm2lWeOebkPGeAmLW3Wku24VG7tjLorwwmo4m0mdV8qNtZBDIfXE2NGPSbniZpfE/S+MzpzarmrpUAPJqNtOl7DJYVHHrCsbSqWtX1dDoFBBdc6sR7bqdd7KIoIDIymqqIEvk6uH6PgmcVQucc0ayNZjYY1FXwKQqDmWkdfGLrZopkPnBqpfIeDb33ZQEcQQgsgoiohjHG4FkF61ARITElgMZV/UFgp7OpMfmULcdIiOwrFZGsiDwbJwQlRuedik0mLRJ5XyHkmCOYpgjF1DMtGRjq2ggIKRqhSSxEISuVTp7d/xdeUymTC/aFcQAAAABJRU5ErkJggg==\n",
        "metadata": {
         "tags": []
        },
        "output_type": "display_data",
        "text/plain": "<PIL.Image.Image image mode=RGB size=128x93 at 0x7F17D7E1ADD8>"
       }
      ]
     }
    },
    "a10bac5e0cd4464a97cf375cd4664803": {
     "model_module": "@jupyter-widgets/base",
     "model_name": "LayoutModel",
     "state": {
      "_model_module": "@jupyter-widgets/base",
      "_model_module_version": "1.2.0",
      "_model_name": "LayoutModel",
      "_view_count": null,
      "_view_module": "@jupyter-widgets/base",
      "_view_module_version": "1.2.0",
      "_view_name": "LayoutView",
      "align_content": null,
      "align_items": null,
      "align_self": null,
      "border": null,
      "bottom": null,
      "display": null,
      "flex": null,
      "flex_flow": null,
      "grid_area": null,
      "grid_auto_columns": null,
      "grid_auto_flow": null,
      "grid_auto_rows": null,
      "grid_column": null,
      "grid_gap": null,
      "grid_row": null,
      "grid_template_areas": null,
      "grid_template_columns": null,
      "grid_template_rows": null,
      "height": null,
      "justify_content": null,
      "justify_items": null,
      "left": null,
      "margin": null,
      "max_height": null,
      "max_width": null,
      "min_height": null,
      "min_width": null,
      "object_fit": null,
      "object_position": null,
      "order": null,
      "overflow": null,
      "overflow_x": null,
      "overflow_y": null,
      "padding": null,
      "right": null,
      "top": null,
      "visibility": null,
      "width": null
     }
    },
    "ad2be4bfb97347299f15e7095a02ae9b": {
     "model_module": "@jupyter-widgets/controls",
     "model_name": "ButtonStyleModel",
     "state": {
      "_model_module": "@jupyter-widgets/controls",
      "_model_module_version": "1.5.0",
      "_model_name": "ButtonStyleModel",
      "_view_count": null,
      "_view_module": "@jupyter-widgets/base",
      "_view_module_version": "1.2.0",
      "_view_name": "StyleView",
      "button_color": null,
      "font_weight": ""
     }
    },
    "b6a23aa55a6f4b469b76cdbcee54e3a9": {
     "model_module": "@jupyter-widgets/controls",
     "model_name": "ButtonModel",
     "state": {
      "_dom_classes": [],
      "_model_module": "@jupyter-widgets/controls",
      "_model_module_version": "1.5.0",
      "_model_name": "ButtonModel",
      "_view_count": null,
      "_view_module": "@jupyter-widgets/controls",
      "_view_module_version": "1.5.0",
      "_view_name": "ButtonView",
      "button_style": "",
      "description": "Classify",
      "disabled": false,
      "icon": "",
      "layout": "IPY_MODEL_a10bac5e0cd4464a97cf375cd4664803",
      "style": "IPY_MODEL_7b4c2684c1c846fa874296cff8e52b1d",
      "tooltip": ""
     }
    },
    "ceb901d3f75f4e34b0a46686b2474f6c": {
     "model_module": "@jupyter-widgets/base",
     "model_name": "LayoutModel",
     "state": {
      "_model_module": "@jupyter-widgets/base",
      "_model_module_version": "1.2.0",
      "_model_name": "LayoutModel",
      "_view_count": null,
      "_view_module": "@jupyter-widgets/base",
      "_view_module_version": "1.2.0",
      "_view_name": "LayoutView",
      "align_content": null,
      "align_items": null,
      "align_self": null,
      "border": null,
      "bottom": null,
      "display": null,
      "flex": null,
      "flex_flow": null,
      "grid_area": null,
      "grid_auto_columns": null,
      "grid_auto_flow": null,
      "grid_auto_rows": null,
      "grid_column": null,
      "grid_gap": null,
      "grid_row": null,
      "grid_template_areas": null,
      "grid_template_columns": null,
      "grid_template_rows": null,
      "height": null,
      "justify_content": null,
      "justify_items": null,
      "left": null,
      "margin": null,
      "max_height": null,
      "max_width": null,
      "min_height": null,
      "min_width": null,
      "object_fit": null,
      "object_position": null,
      "order": null,
      "overflow": null,
      "overflow_x": null,
      "overflow_y": null,
      "padding": null,
      "right": null,
      "top": null,
      "visibility": null,
      "width": null
     }
    },
    "e3acc6dcaef244509dd23638fbb3b8ef": {
     "model_module": "@jupyter-widgets/base",
     "model_name": "LayoutModel",
     "state": {
      "_model_module": "@jupyter-widgets/base",
      "_model_module_version": "1.2.0",
      "_model_name": "LayoutModel",
      "_view_count": null,
      "_view_module": "@jupyter-widgets/base",
      "_view_module_version": "1.2.0",
      "_view_name": "LayoutView",
      "align_content": null,
      "align_items": null,
      "align_self": null,
      "border": null,
      "bottom": null,
      "display": null,
      "flex": null,
      "flex_flow": null,
      "grid_area": null,
      "grid_auto_columns": null,
      "grid_auto_flow": null,
      "grid_auto_rows": null,
      "grid_column": null,
      "grid_gap": null,
      "grid_row": null,
      "grid_template_areas": null,
      "grid_template_columns": null,
      "grid_template_rows": null,
      "height": null,
      "justify_content": null,
      "justify_items": null,
      "left": null,
      "margin": null,
      "max_height": null,
      "max_width": null,
      "min_height": null,
      "min_width": null,
      "object_fit": null,
      "object_position": null,
      "order": null,
      "overflow": null,
      "overflow_x": null,
      "overflow_y": null,
      "padding": null,
      "right": null,
      "top": null,
      "visibility": null,
      "width": null
     }
    },
    "e487b5e5617444a7b93f5ae5cd533d6a": {
     "model_module": "@jupyter-widgets/controls",
     "model_name": "VBoxModel",
     "state": {
      "_dom_classes": [],
      "_model_module": "@jupyter-widgets/controls",
      "_model_module_version": "1.5.0",
      "_model_name": "VBoxModel",
      "_view_count": null,
      "_view_module": "@jupyter-widgets/controls",
      "_view_module_version": "1.5.0",
      "_view_name": "VBoxView",
      "box_style": "",
      "children": [
       "IPY_MODEL_064e092ab3fd4442aa2eccbc5a3b7913",
       "IPY_MODEL_e6f23d852e66496487ad0747c1420f87",
       "IPY_MODEL_b6a23aa55a6f4b469b76cdbcee54e3a9",
       "IPY_MODEL_7da5ea2c64804cff9c9f3f55cfde1855",
       "IPY_MODEL_e58901b89f3b435b990a063dde077f1a"
      ],
      "layout": "IPY_MODEL_442038ae159d4abf860ea3a034ba376b"
     }
    },
    "e58901b89f3b435b990a063dde077f1a": {
     "model_module": "@jupyter-widgets/controls",
     "model_name": "LabelModel",
     "state": {
      "_dom_classes": [],
      "_model_module": "@jupyter-widgets/controls",
      "_model_module_version": "1.5.0",
      "_model_name": "LabelModel",
      "_view_count": null,
      "_view_module": "@jupyter-widgets/controls",
      "_view_module_version": "1.5.0",
      "_view_name": "LabelView",
      "description": "",
      "description_tooltip": null,
      "layout": "IPY_MODEL_ee2edd7ca8fc44e8869372da48c5a895",
      "placeholder": "​",
      "style": "IPY_MODEL_0f65e97606454120a5264b9d2e07e954",
      "value": "Prediction: Jeep; Probability: 0.9999"
     }
    },
    "e6f23d852e66496487ad0747c1420f87": {
     "model_module": "@jupyter-widgets/controls",
     "model_name": "FileUploadModel",
     "state": {
      "_counter": 1,
      "_dom_classes": [],
      "_model_module": "@jupyter-widgets/controls",
      "_model_module_version": "1.5.0",
      "_model_name": "FileUploadModel",
      "_view_count": null,
      "_view_module": "@jupyter-widgets/controls",
      "_view_module_version": "1.5.0",
      "_view_name": "FileUploadView",
      "accept": "",
      "button_style": "",
      "data": [
       null
      ],
      "description": "Upload",
      "description_tooltip": null,
      "disabled": false,
      "error": "",
      "icon": "upload",
      "layout": "IPY_MODEL_e3acc6dcaef244509dd23638fbb3b8ef",
      "metadata": [
       {
        "lastModified": 1371689897000,
        "name": "00003.jpg",
        "size": 170405,
        "type": "image/jpeg"
       }
      ],
      "multiple": false,
      "style": "IPY_MODEL_ad2be4bfb97347299f15e7095a02ae9b"
     }
    },
    "ee2edd7ca8fc44e8869372da48c5a895": {
     "model_module": "@jupyter-widgets/base",
     "model_name": "LayoutModel",
     "state": {
      "_model_module": "@jupyter-widgets/base",
      "_model_module_version": "1.2.0",
      "_model_name": "LayoutModel",
      "_view_count": null,
      "_view_module": "@jupyter-widgets/base",
      "_view_module_version": "1.2.0",
      "_view_name": "LayoutView",
      "align_content": null,
      "align_items": null,
      "align_self": null,
      "border": null,
      "bottom": null,
      "display": null,
      "flex": null,
      "flex_flow": null,
      "grid_area": null,
      "grid_auto_columns": null,
      "grid_auto_flow": null,
      "grid_auto_rows": null,
      "grid_column": null,
      "grid_gap": null,
      "grid_row": null,
      "grid_template_areas": null,
      "grid_template_columns": null,
      "grid_template_rows": null,
      "height": null,
      "justify_content": null,
      "justify_items": null,
      "left": null,
      "margin": null,
      "max_height": null,
      "max_width": null,
      "min_height": null,
      "min_width": null,
      "object_fit": null,
      "object_position": null,
      "order": null,
      "overflow": null,
      "overflow_x": null,
      "overflow_y": null,
      "padding": null,
      "right": null,
      "top": null,
      "visibility": null,
      "width": null
     }
    }
   }
  }
 },
 "nbformat": 4,
 "nbformat_minor": 1
}
