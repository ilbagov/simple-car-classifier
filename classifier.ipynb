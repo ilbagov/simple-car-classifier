{
 "cells": [
  {
   "cell_type": "code",
   "execution_count": 2,
   "metadata": {
    "collapsed": true,
    "pycharm": {
     "name": "#%%\n"
    }
   },
   "outputs": [],
   "source": [
    "# !pip install --upgrade --force-reinstall fastai\n",
    "import os\n",
    "from pathlib import Path\n",
    "import pandas as pd\n",
    "from fastai.vision.all import *\n",
    "from scipy.io import loadmat"
   ]
  },
  {
   "cell_type": "code",
   "execution_count": 3,
   "outputs": [],
   "source": [
    "# downloading images and delete false annotations file\n",
    "path_data = untar_data(URLs.CARS, dest=Path.cwd())\n",
    "path_annos = path_data/'cars_annos.mat'\n",
    "\n",
    "# using try/except because of a bug in pathlib\n",
    "try:\n",
    "    path_annos.unlink(missing_ok=True)\n",
    "except:\n",
    "    pass\n",
    "\n",
    "# downloading devkit containing true annotations\n",
    "path_devkit = untar_data(\"https://ai.stanford.edu/~jkrause/cars/car_devkit.tgz\", dest=path_data)\n",
    "\n",
    "# defining train and test paths\n",
    "path_train = path_data/'cars_train'\n",
    "path_test = path_data/'cars_test'"
   ],
   "metadata": {
    "collapsed": false,
    "pycharm": {
     "name": "#%%\n"
    }
   }
  },
  {
   "cell_type": "code",
   "execution_count": 4,
   "outputs": [],
   "source": [
    "# converting classes to brands only\n",
    "classes = loadmat(path_devkit/'cars_meta.mat')\n",
    "classes_brands = [str(x[0]).split(\" \")[0] for x in classes['class_names'][0]]\n",
    "\n",
    "# getting class labels for each file in train and saving\n",
    "# filenames along with classes and labels into a dataframe\n",
    "cars_train_annos = loadmat(path_devkit/'cars_train_annos.mat')\n",
    "cars_train_files_labels = [(x[-1][0][:], x[-2][0][0])  for x in cars_train_annos['annotations'][0]]\n",
    "train_labels_df = pd.DataFrame(data=cars_train_files_labels,\n",
    "                               columns=['fname', 'cls'])\n",
    "# adding brands as labels\n",
    "train_labels_df['lbl'] = [classes_brands[i-1] for i in train_labels_df['cls'].values]\n",
    "\n",
    "# defining a function which extracts class labels for each sample\n",
    "def label_func(fname, labels_df=train_labels_df):\n",
    "    return labels_df.loc[labels_df['fname']==fname.name, 'lbl'].values[0]"
   ],
   "metadata": {
    "collapsed": false,
    "pycharm": {
     "name": "#%%\n"
    }
   }
  },
  {
   "cell_type": "code",
   "execution_count": 5,
   "outputs": [],
   "source": [
    "# Creating a DataBlock for the image data\n",
    "cars = DataBlock(blocks = (ImageBlock, CategoryBlock),\n",
    "                   get_items = get_image_files,\n",
    "                   get_y = label_func,\n",
    "                   splitter = RandomSplitter(),\n",
    "                   item_tfms = Resize(224))\n",
    "\n",
    "# Creating a DataLoaders object\n",
    "dls = cars.dataloaders(path_train,\n",
    "                       num_workers=0)"
   ],
   "metadata": {
    "collapsed": false,
    "pycharm": {
     "name": "#%%\n"
    }
   }
  },
  {
   "cell_type": "code",
   "execution_count": 8,
   "outputs": [],
   "source": [
    "# Creating a Learner\n",
    "learn = cnn_learner(dls, resnet34, metrics=error_rate)\n",
    "#learn.fine_tune(1)\n"
   ],
   "metadata": {
    "collapsed": false,
    "pycharm": {
     "name": "#%% Begin working on model\n"
    }
   }
  }
 ],
 "metadata": {
  "kernelspec": {
   "name": "pycharm-4975fc6f",
   "language": "python",
   "display_name": "PyCharm (various)"
  },
  "language_info": {
   "codemirror_mode": {
    "name": "ipython",
    "version": 2
   },
   "file_extension": ".py",
   "mimetype": "text/x-python",
   "name": "python",
   "nbconvert_exporter": "python",
   "pygments_lexer": "ipython2",
   "version": "2.7.6"
  }
 },
 "nbformat": 4,
 "nbformat_minor": 0
}